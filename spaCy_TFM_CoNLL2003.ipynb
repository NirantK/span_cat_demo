{
  "nbformat": 4,
  "nbformat_minor": 0,
  "metadata": {
    "colab": {
      "name": "spaCy_TFM_CoNLL2003.ipynb",
      "provenance": [],
      "collapsed_sections": [],
      "mount_file_id": "1MXxJwJ3mcYpkCs5sAVppE6cz8RWpbU8s",
      "authorship_tag": "ABX9TyPvC/S/ibiw/aoMsIMadk0W",
      "include_colab_link": true
    },
    "kernelspec": {
      "name": "python3",
      "display_name": "Python 3"
    },
    "language_info": {
      "name": "python"
    },
    "accelerator": "GPU"
  },
  "cells": [
    {
      "cell_type": "markdown",
      "metadata": {
        "id": "view-in-github",
        "colab_type": "text"
      },
      "source": [
        "<a href=\"https://colab.research.google.com/github/NirantK/span_cat_demo/blob/main/spaCy_TFM_CoNLL2003.ipynb\" target=\"_parent\"><img src=\"https://colab.research.google.com/assets/colab-badge.svg\" alt=\"Open In Colab\"/></a>"
      ]
    },
    {
      "cell_type": "code",
      "metadata": {
        "colab": {
          "base_uri": "https://localhost:8080/"
        },
        "id": "MzcHjtLU7Fmf",
        "outputId": "a61687b7-fee6-4f7c-8191-a89c19b6c33c"
      },
      "source": [
        "%cd /content/\n",
        "!git clone https://github.com/explosion/spacy\n",
        "%cd /content/\n",
        "!git clone https://github.com/NirantK/span_cat_demo"
      ],
      "execution_count": 1,
      "outputs": [
        {
          "output_type": "stream",
          "text": [
            "/content\n",
            "fatal: destination path 'spacy' already exists and is not an empty directory.\n",
            "/content\n",
            "fatal: destination path 'span_cat_demo' already exists and is not an empty directory.\n"
          ],
          "name": "stdout"
        }
      ]
    },
    {
      "cell_type": "code",
      "metadata": {
        "colab": {
          "base_uri": "https://localhost:8080/"
        },
        "id": "R8i_LNpH7RUG",
        "outputId": "baf0f2aa-9cc4-4edb-e689-c9c408f3fd63"
      },
      "source": [
        "%cd /content/spacy\n",
        "!git checkout feature/span-categorizer-v3\n",
        "!pip install spacy-transformers\n",
        "!pip install -r requirements.txt\n",
        "!pip install --no-build-isolation --editable ."
      ],
      "execution_count": 2,
      "outputs": [
        {
          "output_type": "stream",
          "text": [
            "/content/spacy\n",
            "Already on 'feature/span-categorizer-v3'\n",
            "Your branch is up to date with 'origin/feature/span-categorizer-v3'.\n",
            "Requirement already satisfied: spacy-transformers in /usr/local/lib/python3.7/dist-packages (1.0.3)\n",
            "Requirement already satisfied: srsly<3.0.0,>=2.4.0 in /usr/local/lib/python3.7/dist-packages (from spacy-transformers) (2.4.1)\n",
            "Requirement already satisfied: transformers<4.7.0,>=3.4.0 in /usr/local/lib/python3.7/dist-packages (from spacy-transformers) (4.6.1)\n",
            "Requirement already satisfied: spacy<4.0.0,>=3.0.0 in /content/spacy (from spacy-transformers) (3.1.0)\n",
            "Requirement already satisfied: torch>=1.5.0 in /usr/local/lib/python3.7/dist-packages (from spacy-transformers) (1.9.0+cu102)\n",
            "Requirement already satisfied: spacy-alignments<1.0.0,>=0.7.2 in /usr/local/lib/python3.7/dist-packages (from spacy-transformers) (0.8.3)\n",
            "Requirement already satisfied: catalogue<2.1.0,>=2.0.1 in /usr/local/lib/python3.7/dist-packages (from srsly<3.0.0,>=2.4.0->spacy-transformers) (2.0.4)\n",
            "Requirement already satisfied: filelock in /usr/local/lib/python3.7/dist-packages (from transformers<4.7.0,>=3.4.0->spacy-transformers) (3.0.12)\n",
            "Requirement already satisfied: sacremoses in /usr/local/lib/python3.7/dist-packages (from transformers<4.7.0,>=3.4.0->spacy-transformers) (0.0.45)\n",
            "Requirement already satisfied: huggingface-hub==0.0.8 in /usr/local/lib/python3.7/dist-packages (from transformers<4.7.0,>=3.4.0->spacy-transformers) (0.0.8)\n",
            "Requirement already satisfied: packaging in /usr/local/lib/python3.7/dist-packages (from transformers<4.7.0,>=3.4.0->spacy-transformers) (20.9)\n",
            "Requirement already satisfied: importlib-metadata; python_version < \"3.8\" in /usr/local/lib/python3.7/dist-packages (from transformers<4.7.0,>=3.4.0->spacy-transformers) (4.5.0)\n",
            "Requirement already satisfied: numpy>=1.17 in /usr/local/lib/python3.7/dist-packages (from transformers<4.7.0,>=3.4.0->spacy-transformers) (1.19.5)\n",
            "Requirement already satisfied: regex!=2019.12.17 in /usr/local/lib/python3.7/dist-packages (from transformers<4.7.0,>=3.4.0->spacy-transformers) (2019.12.20)\n",
            "Requirement already satisfied: tqdm>=4.27 in /usr/local/lib/python3.7/dist-packages (from transformers<4.7.0,>=3.4.0->spacy-transformers) (4.41.1)\n",
            "Requirement already satisfied: tokenizers<0.11,>=0.10.1 in /usr/local/lib/python3.7/dist-packages (from transformers<4.7.0,>=3.4.0->spacy-transformers) (0.10.3)\n",
            "Requirement already satisfied: requests in /usr/local/lib/python3.7/dist-packages (from transformers<4.7.0,>=3.4.0->spacy-transformers) (2.23.0)\n",
            "Requirement already satisfied: spacy-legacy<3.1.0,>=3.0.6 in /usr/local/lib/python3.7/dist-packages (from spacy<4.0.0,>=3.0.0->spacy-transformers) (3.0.6)\n",
            "Requirement already satisfied: murmurhash<1.1.0,>=0.28.0 in /usr/local/lib/python3.7/dist-packages (from spacy<4.0.0,>=3.0.0->spacy-transformers) (1.0.5)\n",
            "Requirement already satisfied: cymem<2.1.0,>=2.0.2 in /usr/local/lib/python3.7/dist-packages (from spacy<4.0.0,>=3.0.0->spacy-transformers) (2.0.5)\n",
            "Requirement already satisfied: preshed<3.1.0,>=3.0.2 in /usr/local/lib/python3.7/dist-packages (from spacy<4.0.0,>=3.0.0->spacy-transformers) (3.0.5)\n",
            "Requirement already satisfied: thinc<8.1.0,>=8.0.6 in /usr/local/lib/python3.7/dist-packages (from spacy<4.0.0,>=3.0.0->spacy-transformers) (8.0.6)\n",
            "Requirement already satisfied: blis<0.8.0,>=0.4.0 in /usr/local/lib/python3.7/dist-packages (from spacy<4.0.0,>=3.0.0->spacy-transformers) (0.4.1)\n",
            "Requirement already satisfied: wasabi<1.1.0,>=0.8.1 in /usr/local/lib/python3.7/dist-packages (from spacy<4.0.0,>=3.0.0->spacy-transformers) (0.8.2)\n",
            "Requirement already satisfied: typer<0.4.0,>=0.3.0 in /usr/local/lib/python3.7/dist-packages (from spacy<4.0.0,>=3.0.0->spacy-transformers) (0.3.2)\n",
            "Requirement already satisfied: pathy>=0.3.5 in /usr/local/lib/python3.7/dist-packages (from spacy<4.0.0,>=3.0.0->spacy-transformers) (0.5.2)\n",
            "Requirement already satisfied: pydantic!=1.8,!=1.8.1,<1.9.0,>=1.7.4 in /usr/local/lib/python3.7/dist-packages (from spacy<4.0.0,>=3.0.0->spacy-transformers) (1.7.4)\n",
            "Requirement already satisfied: jinja2 in /usr/local/lib/python3.7/dist-packages (from spacy<4.0.0,>=3.0.0->spacy-transformers) (2.11.3)\n",
            "Requirement already satisfied: setuptools in /usr/local/lib/python3.7/dist-packages (from spacy<4.0.0,>=3.0.0->spacy-transformers) (57.0.0)\n",
            "Requirement already satisfied: typing_extensions<4.0.0.0,>=3.7.4 in /usr/local/lib/python3.7/dist-packages (from spacy<4.0.0,>=3.0.0->spacy-transformers) (3.7.4.3)\n",
            "Requirement already satisfied: zipp>=0.5; python_version < \"3.8\" in /usr/local/lib/python3.7/dist-packages (from catalogue<2.1.0,>=2.0.1->srsly<3.0.0,>=2.4.0->spacy-transformers) (3.4.1)\n",
            "Requirement already satisfied: click in /usr/local/lib/python3.7/dist-packages (from sacremoses->transformers<4.7.0,>=3.4.0->spacy-transformers) (7.1.2)\n",
            "Requirement already satisfied: joblib in /usr/local/lib/python3.7/dist-packages (from sacremoses->transformers<4.7.0,>=3.4.0->spacy-transformers) (1.0.1)\n",
            "Requirement already satisfied: six in /usr/local/lib/python3.7/dist-packages (from sacremoses->transformers<4.7.0,>=3.4.0->spacy-transformers) (1.15.0)\n",
            "Requirement already satisfied: pyparsing>=2.0.2 in /usr/local/lib/python3.7/dist-packages (from packaging->transformers<4.7.0,>=3.4.0->spacy-transformers) (2.4.7)\n",
            "Requirement already satisfied: certifi>=2017.4.17 in /usr/local/lib/python3.7/dist-packages (from requests->transformers<4.7.0,>=3.4.0->spacy-transformers) (2021.5.30)\n",
            "Requirement already satisfied: idna<3,>=2.5 in /usr/local/lib/python3.7/dist-packages (from requests->transformers<4.7.0,>=3.4.0->spacy-transformers) (2.10)\n",
            "Requirement already satisfied: chardet<4,>=3.0.2 in /usr/local/lib/python3.7/dist-packages (from requests->transformers<4.7.0,>=3.4.0->spacy-transformers) (3.0.4)\n",
            "Requirement already satisfied: urllib3!=1.25.0,!=1.25.1,<1.26,>=1.21.1 in /usr/local/lib/python3.7/dist-packages (from requests->transformers<4.7.0,>=3.4.0->spacy-transformers) (1.24.3)\n",
            "Requirement already satisfied: smart-open<4.0.0,>=2.2.0 in /usr/local/lib/python3.7/dist-packages (from pathy>=0.3.5->spacy<4.0.0,>=3.0.0->spacy-transformers) (3.0.0)\n",
            "Requirement already satisfied: MarkupSafe>=0.23 in /usr/local/lib/python3.7/dist-packages (from jinja2->spacy<4.0.0,>=3.0.0->spacy-transformers) (2.0.1)\n",
            "Requirement already satisfied: spacy-legacy<3.1.0,>=3.0.6 in /usr/local/lib/python3.7/dist-packages (from -r requirements.txt (line 2)) (3.0.6)\n",
            "Requirement already satisfied: cymem<2.1.0,>=2.0.2 in /usr/local/lib/python3.7/dist-packages (from -r requirements.txt (line 3)) (2.0.5)\n",
            "Requirement already satisfied: preshed<3.1.0,>=3.0.2 in /usr/local/lib/python3.7/dist-packages (from -r requirements.txt (line 4)) (3.0.5)\n",
            "Requirement already satisfied: thinc<8.1.0,>=8.0.6 in /usr/local/lib/python3.7/dist-packages (from -r requirements.txt (line 5)) (8.0.6)\n",
            "Requirement already satisfied: blis<0.8.0,>=0.4.0 in /usr/local/lib/python3.7/dist-packages (from -r requirements.txt (line 6)) (0.4.1)\n",
            "Requirement already satisfied: ml_datasets<0.3.0,>=0.2.0 in /usr/local/lib/python3.7/dist-packages (from -r requirements.txt (line 7)) (0.2.0)\n",
            "Requirement already satisfied: murmurhash<1.1.0,>=0.28.0 in /usr/local/lib/python3.7/dist-packages (from -r requirements.txt (line 8)) (1.0.5)\n",
            "Requirement already satisfied: wasabi<1.1.0,>=0.8.1 in /usr/local/lib/python3.7/dist-packages (from -r requirements.txt (line 9)) (0.8.2)\n",
            "Requirement already satisfied: srsly<3.0.0,>=2.4.1 in /usr/local/lib/python3.7/dist-packages (from -r requirements.txt (line 10)) (2.4.1)\n",
            "Requirement already satisfied: catalogue<2.1.0,>=2.0.4 in /usr/local/lib/python3.7/dist-packages (from -r requirements.txt (line 11)) (2.0.4)\n",
            "Requirement already satisfied: typer<0.4.0,>=0.3.0 in /usr/local/lib/python3.7/dist-packages (from -r requirements.txt (line 12)) (0.3.2)\n",
            "Requirement already satisfied: pathy>=0.3.5 in /usr/local/lib/python3.7/dist-packages (from -r requirements.txt (line 13)) (0.5.2)\n",
            "Requirement already satisfied: numpy>=1.15.0 in /usr/local/lib/python3.7/dist-packages (from -r requirements.txt (line 15)) (1.19.5)\n",
            "Requirement already satisfied: requests<3.0.0,>=2.13.0 in /usr/local/lib/python3.7/dist-packages (from -r requirements.txt (line 16)) (2.23.0)\n",
            "Requirement already satisfied: tqdm<5.0.0,>=4.38.0 in /usr/local/lib/python3.7/dist-packages (from -r requirements.txt (line 17)) (4.41.1)\n",
            "Requirement already satisfied: pydantic!=1.8,!=1.8.1,<1.9.0,>=1.7.4 in /usr/local/lib/python3.7/dist-packages (from -r requirements.txt (line 18)) (1.7.4)\n",
            "Requirement already satisfied: jinja2 in /usr/local/lib/python3.7/dist-packages (from -r requirements.txt (line 19)) (2.11.3)\n",
            "Requirement already satisfied: setuptools in /usr/local/lib/python3.7/dist-packages (from -r requirements.txt (line 21)) (57.0.0)\n",
            "Requirement already satisfied: packaging>=20.0 in /usr/local/lib/python3.7/dist-packages (from -r requirements.txt (line 22)) (20.9)\n",
            "Requirement already satisfied: typing_extensions<4.0.0.0,>=3.7.4.1 in /usr/local/lib/python3.7/dist-packages (from -r requirements.txt (line 23)) (3.7.4.3)\n",
            "Requirement already satisfied: cython<3.0,>=0.25 in /usr/local/lib/python3.7/dist-packages (from -r requirements.txt (line 25)) (0.29.23)\n",
            "Requirement already satisfied: pytest>=5.2.0 in /usr/local/lib/python3.7/dist-packages (from -r requirements.txt (line 26)) (6.2.4)\n",
            "Requirement already satisfied: pytest-timeout<2.0.0,>=1.3.0 in /usr/local/lib/python3.7/dist-packages (from -r requirements.txt (line 27)) (1.4.2)\n",
            "Requirement already satisfied: mock<3.0.0,>=2.0.0 in /usr/local/lib/python3.7/dist-packages (from -r requirements.txt (line 28)) (2.0.0)\n",
            "Requirement already satisfied: flake8<3.6.0,>=3.5.0 in /usr/local/lib/python3.7/dist-packages (from -r requirements.txt (line 29)) (3.5.0)\n",
            "Requirement already satisfied: hypothesis<7.0.0,>=3.27.0 in /usr/local/lib/python3.7/dist-packages (from -r requirements.txt (line 30)) (6.14.0)\n",
            "Requirement already satisfied: zipp>=0.5; python_version < \"3.8\" in /usr/local/lib/python3.7/dist-packages (from catalogue<2.1.0,>=2.0.4->-r requirements.txt (line 11)) (3.4.1)\n",
            "Requirement already satisfied: click<7.2.0,>=7.1.1 in /usr/local/lib/python3.7/dist-packages (from typer<0.4.0,>=0.3.0->-r requirements.txt (line 12)) (7.1.2)\n",
            "Requirement already satisfied: smart-open<4.0.0,>=2.2.0 in /usr/local/lib/python3.7/dist-packages (from pathy>=0.3.5->-r requirements.txt (line 13)) (3.0.0)\n",
            "Requirement already satisfied: chardet<4,>=3.0.2 in /usr/local/lib/python3.7/dist-packages (from requests<3.0.0,>=2.13.0->-r requirements.txt (line 16)) (3.0.4)\n",
            "Requirement already satisfied: idna<3,>=2.5 in /usr/local/lib/python3.7/dist-packages (from requests<3.0.0,>=2.13.0->-r requirements.txt (line 16)) (2.10)\n",
            "Requirement already satisfied: urllib3!=1.25.0,!=1.25.1,<1.26,>=1.21.1 in /usr/local/lib/python3.7/dist-packages (from requests<3.0.0,>=2.13.0->-r requirements.txt (line 16)) (1.24.3)\n",
            "Requirement already satisfied: certifi>=2017.4.17 in /usr/local/lib/python3.7/dist-packages (from requests<3.0.0,>=2.13.0->-r requirements.txt (line 16)) (2021.5.30)\n",
            "Requirement already satisfied: MarkupSafe>=0.23 in /usr/local/lib/python3.7/dist-packages (from jinja2->-r requirements.txt (line 19)) (2.0.1)\n",
            "Requirement already satisfied: pyparsing>=2.0.2 in /usr/local/lib/python3.7/dist-packages (from packaging>=20.0->-r requirements.txt (line 22)) (2.4.7)\n",
            "Requirement already satisfied: iniconfig in /usr/local/lib/python3.7/dist-packages (from pytest>=5.2.0->-r requirements.txt (line 26)) (1.1.1)\n",
            "Requirement already satisfied: py>=1.8.2 in /usr/local/lib/python3.7/dist-packages (from pytest>=5.2.0->-r requirements.txt (line 26)) (1.10.0)\n",
            "Requirement already satisfied: importlib-metadata>=0.12; python_version < \"3.8\" in /usr/local/lib/python3.7/dist-packages (from pytest>=5.2.0->-r requirements.txt (line 26)) (4.5.0)\n",
            "Requirement already satisfied: toml in /usr/local/lib/python3.7/dist-packages (from pytest>=5.2.0->-r requirements.txt (line 26)) (0.10.2)\n",
            "Requirement already satisfied: attrs>=19.2.0 in /usr/local/lib/python3.7/dist-packages (from pytest>=5.2.0->-r requirements.txt (line 26)) (21.2.0)\n",
            "Requirement already satisfied: pluggy<1.0.0a1,>=0.12 in /usr/local/lib/python3.7/dist-packages (from pytest>=5.2.0->-r requirements.txt (line 26)) (0.13.1)\n",
            "Requirement already satisfied: pbr>=0.11 in /usr/local/lib/python3.7/dist-packages (from mock<3.0.0,>=2.0.0->-r requirements.txt (line 28)) (5.6.0)\n",
            "Requirement already satisfied: six>=1.9 in /usr/local/lib/python3.7/dist-packages (from mock<3.0.0,>=2.0.0->-r requirements.txt (line 28)) (1.15.0)\n",
            "Requirement already satisfied: pycodestyle<2.4.0,>=2.0.0 in /usr/local/lib/python3.7/dist-packages (from flake8<3.6.0,>=3.5.0->-r requirements.txt (line 29)) (2.3.1)\n",
            "Requirement already satisfied: mccabe<0.7.0,>=0.6.0 in /usr/local/lib/python3.7/dist-packages (from flake8<3.6.0,>=3.5.0->-r requirements.txt (line 29)) (0.6.1)\n",
            "Requirement already satisfied: pyflakes<1.7.0,>=1.5.0 in /usr/local/lib/python3.7/dist-packages (from flake8<3.6.0,>=3.5.0->-r requirements.txt (line 29)) (1.6.0)\n",
            "Requirement already satisfied: sortedcontainers<3.0.0,>=2.1.0 in /usr/local/lib/python3.7/dist-packages (from hypothesis<7.0.0,>=3.27.0->-r requirements.txt (line 30)) (2.4.0)\n",
            "Obtaining file:///content/spacy\n",
            "    Preparing wheel metadata ... \u001b[?25l\u001b[?25hdone\n",
            "Requirement already satisfied: pathy>=0.3.5 in /usr/local/lib/python3.7/dist-packages (from spacy==3.1.0) (0.5.2)\n",
            "Requirement already satisfied: jinja2 in /usr/local/lib/python3.7/dist-packages (from spacy==3.1.0) (2.11.3)\n",
            "Requirement already satisfied: typing-extensions<4.0.0.0,>=3.7.4; python_version < \"3.8\" in /usr/local/lib/python3.7/dist-packages (from spacy==3.1.0) (3.7.4.3)\n",
            "Requirement already satisfied: pydantic!=1.8,!=1.8.1,<1.9.0,>=1.7.4 in /usr/local/lib/python3.7/dist-packages (from spacy==3.1.0) (1.7.4)\n",
            "Requirement already satisfied: cymem<2.1.0,>=2.0.2 in /usr/local/lib/python3.7/dist-packages (from spacy==3.1.0) (2.0.5)\n",
            "Requirement already satisfied: typer<0.4.0,>=0.3.0 in /usr/local/lib/python3.7/dist-packages (from spacy==3.1.0) (0.3.2)\n",
            "Requirement already satisfied: packaging>=20.0 in /usr/local/lib/python3.7/dist-packages (from spacy==3.1.0) (20.9)\n",
            "Requirement already satisfied: wasabi<1.1.0,>=0.8.1 in /usr/local/lib/python3.7/dist-packages (from spacy==3.1.0) (0.8.2)\n",
            "Requirement already satisfied: srsly<3.0.0,>=2.4.1 in /usr/local/lib/python3.7/dist-packages (from spacy==3.1.0) (2.4.1)\n",
            "Requirement already satisfied: spacy-legacy<3.1.0,>=3.0.6 in /usr/local/lib/python3.7/dist-packages (from spacy==3.1.0) (3.0.6)\n",
            "Requirement already satisfied: thinc<8.1.0,>=8.0.6 in /usr/local/lib/python3.7/dist-packages (from spacy==3.1.0) (8.0.6)\n",
            "Requirement already satisfied: preshed<3.1.0,>=3.0.2 in /usr/local/lib/python3.7/dist-packages (from spacy==3.1.0) (3.0.5)\n",
            "Requirement already satisfied: blis<0.8.0,>=0.4.0 in /usr/local/lib/python3.7/dist-packages (from spacy==3.1.0) (0.4.1)\n",
            "Requirement already satisfied: numpy>=1.15.0 in /usr/local/lib/python3.7/dist-packages (from spacy==3.1.0) (1.19.5)\n",
            "Requirement already satisfied: murmurhash<1.1.0,>=0.28.0 in /usr/local/lib/python3.7/dist-packages (from spacy==3.1.0) (1.0.5)\n",
            "Requirement already satisfied: requests<3.0.0,>=2.13.0 in /usr/local/lib/python3.7/dist-packages (from spacy==3.1.0) (2.23.0)\n",
            "Requirement already satisfied: tqdm<5.0.0,>=4.38.0 in /usr/local/lib/python3.7/dist-packages (from spacy==3.1.0) (4.41.1)\n",
            "Requirement already satisfied: catalogue<2.1.0,>=2.0.4 in /usr/local/lib/python3.7/dist-packages (from spacy==3.1.0) (2.0.4)\n",
            "Requirement already satisfied: setuptools in /usr/local/lib/python3.7/dist-packages (from spacy==3.1.0) (57.0.0)\n",
            "Requirement already satisfied: smart-open<4.0.0,>=2.2.0 in /usr/local/lib/python3.7/dist-packages (from pathy>=0.3.5->spacy==3.1.0) (3.0.0)\n",
            "Requirement already satisfied: MarkupSafe>=0.23 in /usr/local/lib/python3.7/dist-packages (from jinja2->spacy==3.1.0) (2.0.1)\n",
            "Requirement already satisfied: click<7.2.0,>=7.1.1 in /usr/local/lib/python3.7/dist-packages (from typer<0.4.0,>=0.3.0->spacy==3.1.0) (7.1.2)\n",
            "Requirement already satisfied: pyparsing>=2.0.2 in /usr/local/lib/python3.7/dist-packages (from packaging>=20.0->spacy==3.1.0) (2.4.7)\n",
            "Requirement already satisfied: certifi>=2017.4.17 in /usr/local/lib/python3.7/dist-packages (from requests<3.0.0,>=2.13.0->spacy==3.1.0) (2021.5.30)\n",
            "Requirement already satisfied: chardet<4,>=3.0.2 in /usr/local/lib/python3.7/dist-packages (from requests<3.0.0,>=2.13.0->spacy==3.1.0) (3.0.4)\n",
            "Requirement already satisfied: idna<3,>=2.5 in /usr/local/lib/python3.7/dist-packages (from requests<3.0.0,>=2.13.0->spacy==3.1.0) (2.10)\n",
            "Requirement already satisfied: urllib3!=1.25.0,!=1.25.1,<1.26,>=1.21.1 in /usr/local/lib/python3.7/dist-packages (from requests<3.0.0,>=2.13.0->spacy==3.1.0) (1.24.3)\n",
            "Requirement already satisfied: zipp>=0.5; python_version < \"3.8\" in /usr/local/lib/python3.7/dist-packages (from catalogue<2.1.0,>=2.0.4->spacy==3.1.0) (3.4.1)\n",
            "Installing collected packages: spacy\n",
            "  Found existing installation: spacy 3.1.0\n",
            "    Can't uninstall 'spacy'. No files were found to uninstall.\n",
            "  Running setup.py develop for spacy\n",
            "Successfully installed spacy\n"
          ],
          "name": "stdout"
        }
      ]
    },
    {
      "cell_type": "code",
      "metadata": {
        "colab": {
          "base_uri": "https://localhost:8080/"
        },
        "id": "ai-aAHAGS7v2",
        "outputId": "ecf99a76-dff6-4510-cd3b-b61fdcb04588"
      },
      "source": [
        "%cd /content/span_cat_demo\n",
        "!git pull -a\n",
        "%cd /content/span_cat_demo/conll2003\n",
        "!python -m spacy project assets\n",
        "!python -m spacy project run corpus\n",
        "# !python -m spacy project run train\n",
        "# !python -m spacy project run evaluate"
      ],
      "execution_count": 3,
      "outputs": [
        {
          "output_type": "stream",
          "text": [
            "/content/span_cat_demo\n",
            "Already up to date.\n",
            "/content/span_cat_demo/conll2003\n",
            "2021-06-23 09:35:26.606257: I tensorflow/stream_executor/platform/default/dso_loader.cc:53] Successfully opened dynamic library libcudart.so.11.0\n",
            "\u001b[38;5;4mℹ Fetching 3 asset(s)\u001b[0m\n",
            "\u001b[38;5;2m✔ Downloaded asset\n",
            "/content/span_cat_demo/conll2003/assets/conll2003/dev.iob\u001b[0m\n",
            "\u001b[38;5;2m✔ Downloaded asset\n",
            "/content/span_cat_demo/conll2003/assets/conll2003/train.iob\u001b[0m\n",
            "\u001b[38;5;2m✔ Downloaded asset\n",
            "/content/span_cat_demo/conll2003/assets/conll2003/test.iob\u001b[0m\n",
            "2021-06-23 09:35:30.678873: I tensorflow/stream_executor/platform/default/dso_loader.cc:53] Successfully opened dynamic library libcudart.so.11.0\n",
            "\u001b[1m\n",
            "=================================== corpus ===================================\u001b[0m\n",
            "\u001b[38;5;4mℹ Skipping 'corpus': nothing changed\u001b[0m\n"
          ],
          "name": "stdout"
        }
      ]
    },
    {
      "cell_type": "code",
      "metadata": {
        "id": "1cw3SWjpHWy8"
      },
      "source": [
        "from spacy.tokens import DocBin, Doc\n",
        "# use the gold labels to find the upper bound for recall for any suggester\n",
        "# i have the gold labels from corpus for dev, and test both\n",
        "# i need the suggester output in some way\n",
        "from spacy.util import registry\n",
        "from typing import List, Callable, Optional\n",
        "from thinc.api import Ops, get_current_ops, to_numpy\n",
        "from thinc.types import Ragged\n",
        "from pathlib import Path\n",
        "import numpy as np\n",
        "\n",
        "def build_ngram_suggester(sizes: List[int]) -> Callable[[List[Doc]], Ragged]:\n",
        "    \"\"\"Suggest all spans of the given lengths. Spans are returned as a ragged\n",
        "    array of integers. The array has two columns, indicating the start and end\n",
        "    position.\"\"\"\n",
        "\n",
        "    def ngram_suggester(docs: List[Doc], *, ops: Optional[Ops] = None) -> Ragged:\n",
        "        if ops is None:\n",
        "            ops = get_current_ops()\n",
        "        spans = []\n",
        "        lengths = []\n",
        "        for doc in docs:\n",
        "            starts = ops.xp.arange(len(doc), dtype=\"i\")\n",
        "            starts = starts.reshape((-1, 1))\n",
        "            length = 0\n",
        "            for size in sizes:\n",
        "                if size <= len(doc):\n",
        "                    starts_size = starts[:len(doc) - (size - 1)]\n",
        "                    spans.append(ops.xp.hstack((starts_size, starts_size + size)))\n",
        "                    length += spans[-1].shape[0]\n",
        "                if spans:\n",
        "                    assert spans[-1].ndim == 2, spans[-1].shape\n",
        "            lengths.append(length)\n",
        "        if len(spans) > 0:\n",
        "            output = Ragged(ops.xp.vstack(spans), ops.asarray(lengths, dtype=\"i\"))\n",
        "        else:\n",
        "            output = Ragged(ops.xp.zeros((0,0)), ops.asarray(lengths, dtype=\"i\"))\n",
        "\n",
        "        assert output.dataXd.ndim == 2\n",
        "        return output\n",
        "\n",
        "    return ngram_suggester\n",
        "\n",
        "n_gram_suggester = build_ngram_suggester(sizes = [1, 2, 3])"
      ],
      "execution_count": 64,
      "outputs": []
    },
    {
      "cell_type": "code",
      "metadata": {
        "id": "fjxl_YD4HdrI"
      },
      "source": [
        "import spacy\n",
        "from spacy.tokens import DocBin\n",
        "nlp = spacy.blank(\"en\")"
      ],
      "execution_count": 10,
      "outputs": []
    },
    {
      "cell_type": "code",
      "metadata": {
        "id": "NxO9FUgp9rBW"
      },
      "source": [
        "loc = Path(\"/content/span_cat_demo/conll2003/corpus/test.spacy\")\n",
        "assert loc.exists()"
      ],
      "execution_count": 6,
      "outputs": []
    },
    {
      "cell_type": "code",
      "metadata": {
        "id": "8j9LJiR8M-3C"
      },
      "source": [
        "doc_bin = DocBin().from_disk(loc)\n",
        "docs = list(doc_bin.get_docs(nlp.vocab))"
      ],
      "execution_count": 11,
      "outputs": []
    },
    {
      "cell_type": "code",
      "metadata": {
        "id": "zztucY2pO8is"
      },
      "source": [
        "def get_gold_spans(docs: List[Doc])->np.array:\n",
        "    doc_ent_pos, lengths = [], []\n",
        "    for doc in docs:\n",
        "        ent_pos = [[ent.start, ent.end] for ent in doc.ents]\n",
        "        doc_ent_pos.extend(ent_pos)\n",
        "        lengths.append(len(ent_pos))\n",
        "    return np.array(doc_ent_pos), np.array(lengths)\n",
        "\n",
        "gold_spans, lengths = get_gold_spans(docs)\n",
        "ngram_pos_list = n_gram_suggester(docs)"
      ],
      "execution_count": 108,
      "outputs": []
    },
    {
      "cell_type": "code",
      "metadata": {
        "colab": {
          "base_uri": "https://localhost:8080/"
        },
        "id": "Q5DNQWZSZPJg",
        "outputId": "2766f5e2-0a68-4ba9-c31d-c5ab8d745390"
      },
      "source": [
        "assert ngram_pos_list.lengths.shape == lengths.shape\n",
        "ngram_pos_list.data.shape, gold_spans.shape, lengths.shape, ngram_pos_list.lengths.shape\n",
        "# type(gold_spans[0])"
      ],
      "execution_count": 154,
      "outputs": [
        {
          "output_type": "execute_result",
          "data": {
            "text/plain": [
              "((137784, 2), (5648, 2), (369,), (369,))"
            ]
          },
          "metadata": {
            "tags": []
          },
          "execution_count": 154
        }
      ]
    },
    {
      "cell_type": "code",
      "metadata": {
        "colab": {
          "base_uri": "https://localhost:8080/"
        },
        "id": "hlaJ06aBRvew",
        "outputId": "f3ce421e-c38a-4123-ead3-449443cb7b0a"
      },
      "source": [
        "suggest_start, ent_start = 0, 0\n",
        "doc_overlaps = []\n",
        "for suggest_cnt, ent_cnt in zip(ngram_pos_list.lengths, lengths):\n",
        "    suggestions = ngram_pos_list.data[suggest_start: suggest_start+suggest_cnt]\n",
        "    suggest_start += suggest_cnt\n",
        "    entities = gold_spans[ent_start: ent_start+ent_cnt]\n",
        "    ent_start += ent_cnt\n",
        "    assert len(entities) ==  ent_cnt\n",
        "    assert len(suggestions) == suggest_cnt\n",
        "    # print(len(suggestions), len(entities))\n",
        "    A, B = entities, suggestions\n",
        "    # We can create a boolean mask using broadcasting which can be then used to filter the rows in array A which are also present in array B\n",
        "    # mask = (A[:, None] == B).all(-1).any(1)\n",
        "    # overlap = A[mask]\n",
        "    # Alternatively, we can use native Python set tuples\n",
        "    aset = set([tuple(x) for x in A])\n",
        "    bset = set([tuple(x) for x in B])\n",
        "    # print(len(aset), len(bset), aset, bset)\n",
        "    overlap = aset & bset\n",
        "    # overlap - np.array([x for x in aset & bset])\n",
        "    # assert len(overlap) < len(suggestions)\n",
        "    # assert len(overlap) < len(entities)\n",
        "    doc_overlaps.append({\"intersect\": len(overlap), \"doc_r\": len(overlap) / ent_cnt, \"ent_cnt\": ent_cnt})\n",
        "\n",
        "len(doc_overlaps)"
      ],
      "execution_count": 155,
      "outputs": [
        {
          "output_type": "stream",
          "text": [
            "/usr/local/lib/python3.7/dist-packages/ipykernel_launcher.py:23: RuntimeWarning: invalid value encountered in long_scalars\n"
          ],
          "name": "stderr"
        },
        {
          "output_type": "execute_result",
          "data": {
            "text/plain": [
              "369"
            ]
          },
          "metadata": {
            "tags": []
          },
          "execution_count": 155
        }
      ]
    },
    {
      "cell_type": "code",
      "metadata": {
        "colab": {
          "base_uri": "https://localhost:8080/"
        },
        "id": "AA0McVbIdCDn",
        "outputId": "526d996c-2a30-474c-fe10-b2a41ed15f01"
      },
      "source": [
        "total_ents_found, avg_recall = 0, 0.0\n",
        "for element in doc_overlaps:\n",
        "    total_ents_found += element[\"intersect\"]\n",
        "    if element[\"ent_cnt\"] > 0:\n",
        "        avg_recall += element[\"doc_r\"]\n",
        "\n",
        "print(f\"Global Recall (Calculated as Total Suggestions/Total Entities): {total_ents_found/gold_spans.shape[0]:.4f}\")\n",
        "print(f\"Average (Calculated on a Per Doc Level): {avg_recall/len(doc_overlaps):.4f}\")"
      ],
      "execution_count": 158,
      "outputs": [
        {
          "output_type": "stream",
          "text": [
            "Global Recall (Calculated as Total Suggestions/Total Entities): 0.9860\n",
            "Average (Calculated on a Per Doc Level): 0.9731\n"
          ],
          "name": "stdout"
        }
      ]
    },
    {
      "cell_type": "code",
      "metadata": {
        "id": "r-VbJJ3dZ37t"
      },
      "source": [
        ""
      ],
      "execution_count": null,
      "outputs": []
    },
    {
      "cell_type": "code",
      "metadata": {
        "id": "rFeoN4doXNu0"
      },
      "source": [
        ""
      ],
      "execution_count": null,
      "outputs": []
    },
    {
      "cell_type": "code",
      "metadata": {
        "id": "_S3D2qm0YURK"
      },
      "source": [
        ""
      ],
      "execution_count": null,
      "outputs": []
    },
    {
      "cell_type": "code",
      "metadata": {
        "id": "pyYZ1T4eTlKf"
      },
      "source": [
        ""
      ],
      "execution_count": null,
      "outputs": []
    }
  ]
}
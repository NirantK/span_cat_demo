{
 "cells": [
  {
   "cell_type": "code",
   "execution_count": 3,
   "id": "89df5c8f",
   "metadata": {},
   "outputs": [
    {
     "name": "stdout",
     "output_type": "stream",
     "text": [
      "total 17\n",
      "drwxr-xr-x 1 nirantk 197121    0 Jun 23 19:40 assets\n",
      "drwxr-xr-x 1 nirantk 197121    0 Jun 23 19:40 configs\n",
      "drwxr-xr-x 1 nirantk 197121    0 Jun 23 19:40 corpus\n",
      "drwxr-xr-x 1 nirantk 197121    0 Jun 23 19:40 layers\n",
      "drwxr-xr-x 1 nirantk 197121    0 Jun 23 19:40 metrics\n",
      "drwxr-xr-x 1 nirantk 197121    0 Jun 23 19:40 packages\n",
      "-rw-r--r-- 1 nirantk 197121 3724 Jun 20 17:41 project.lock\n",
      "-rw-r--r-- 1 nirantk 197121 3616 Jun 23 19:41 project.yml\n",
      "-rw-r--r-- 1 nirantk 197121  205 Jun 22 18:53 requirements.txt\n",
      "drwxr-xr-x 1 nirantk 197121    0 Jun 23 19:40 scripts\n",
      "drwxr-xr-x 1 nirantk 197121    0 Jun 23 19:40 training\n"
     ]
    }
   ],
   "source": [
    "!cd ../custom/\n",
    "!ls -l ../custom"
   ]
  },
  {
   "cell_type": "code",
   "execution_count": 5,
   "id": "28cb58a2",
   "metadata": {},
   "outputs": [
    {
     "name": "stdout",
     "output_type": "stream",
     "text": [
      "C:\\Users\\nirantk\\Documents\\GitHub\\span_cat_demo\\custom\n"
     ]
    },
    {
     "name": "stderr",
     "output_type": "stream",
     "text": [
      "C:\\Users\\nirantk\\miniconda3\\envs\\spancat\\python.exe: No module named spacy\n"
     ]
    }
   ],
   "source": [
    "%cd ../custom/\n",
    "!python -m spacy project run all"
   ]
  }
 ],
 "metadata": {
  "kernelspec": {
   "display_name": "Python 3",
   "language": "python",
   "name": "python3"
  },
  "language_info": {
   "codemirror_mode": {
    "name": "ipython",
    "version": 3
   },
   "file_extension": ".py",
   "mimetype": "text/x-python",
   "name": "python",
   "nbconvert_exporter": "python",
   "pygments_lexer": "ipython3",
   "version": "3.7.10"
  }
 },
 "nbformat": 4,
 "nbformat_minor": 5
}
